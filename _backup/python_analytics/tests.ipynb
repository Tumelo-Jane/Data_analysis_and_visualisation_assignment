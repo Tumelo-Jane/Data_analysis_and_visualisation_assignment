{
 "cells": [
  {
   "cell_type": "markdown",
   "id": "5c8d3c80",
   "metadata": {},
   "source": [
    "## Data Preparation"
   ]
  },
  {
   "cell_type": "code",
   "execution_count": 153,
   "id": "64cab5b2",
   "metadata": {},
   "outputs": [],
   "source": [
    "import pandas as pd\n",
    "import numpy as np"
   ]
  },
  {
   "cell_type": "code",
   "execution_count": 154,
   "id": "95508740",
   "metadata": {},
   "outputs": [],
   "source": [
    "df_inflation = pd.read_csv('datasets/Inflation1.csv')\n",
    "df_gdp = pd.read_csv('datasets/GDP.csv')"
   ]
  },
  {
   "cell_type": "code",
   "execution_count": 161,
   "id": "dc03f658",
   "metadata": {},
   "outputs": [
    {
     "data": {
      "text/html": [
       "<div>\n",
       "<style scoped>\n",
       "    .dataframe tbody tr th:only-of-type {\n",
       "        vertical-align: middle;\n",
       "    }\n",
       "\n",
       "    .dataframe tbody tr th {\n",
       "        vertical-align: top;\n",
       "    }\n",
       "\n",
       "    .dataframe thead th {\n",
       "        text-align: right;\n",
       "    }\n",
       "</style>\n",
       "<table border=\"1\" class=\"dataframe\">\n",
       "  <thead>\n",
       "    <tr style=\"text-align: right;\">\n",
       "      <th></th>\n",
       "      <th>REF_AREA_ID</th>\n",
       "      <th>REF_AREA_NAME</th>\n",
       "      <th>1960</th>\n",
       "      <th>1961</th>\n",
       "      <th>1962</th>\n",
       "      <th>1963</th>\n",
       "      <th>1964</th>\n",
       "      <th>1965</th>\n",
       "      <th>1966</th>\n",
       "      <th>1967</th>\n",
       "      <th>...</th>\n",
       "      <th>2014</th>\n",
       "      <th>2015</th>\n",
       "      <th>2016</th>\n",
       "      <th>2017</th>\n",
       "      <th>2018</th>\n",
       "      <th>2019</th>\n",
       "      <th>2020</th>\n",
       "      <th>2021</th>\n",
       "      <th>2022</th>\n",
       "      <th>2023</th>\n",
       "    </tr>\n",
       "  </thead>\n",
       "  <tbody>\n",
       "    <tr>\n",
       "      <th>0</th>\n",
       "      <td>ZAF</td>\n",
       "      <td>South Africa</td>\n",
       "      <td>1.288859</td>\n",
       "      <td>2.102374</td>\n",
       "      <td>1.246285</td>\n",
       "      <td>1.33797</td>\n",
       "      <td>2.534973</td>\n",
       "      <td>4.069029</td>\n",
       "      <td>3.489234</td>\n",
       "      <td>3.538992</td>\n",
       "      <td>...</td>\n",
       "      <td>6.129838</td>\n",
       "      <td>4.540642</td>\n",
       "      <td>6.571396</td>\n",
       "      <td>5.184247</td>\n",
       "      <td>4.517165</td>\n",
       "      <td>4.120246</td>\n",
       "      <td>3.210036</td>\n",
       "      <td>4.611672</td>\n",
       "      <td>7.039727</td>\n",
       "      <td>6.073909</td>\n",
       "    </tr>\n",
       "  </tbody>\n",
       "</table>\n",
       "<p>1 rows × 66 columns</p>\n",
       "</div>"
      ],
      "text/plain": [
       "  REF_AREA_ID REF_AREA_NAME      1960      1961      1962     1963      1964  \\\n",
       "0         ZAF  South Africa  1.288859  2.102374  1.246285  1.33797  2.534973   \n",
       "\n",
       "       1965      1966      1967  ...      2014      2015      2016      2017  \\\n",
       "0  4.069029  3.489234  3.538992  ...  6.129838  4.540642  6.571396  5.184247   \n",
       "\n",
       "       2018      2019      2020      2021      2022      2023  \n",
       "0  4.517165  4.120246  3.210036  4.611672  7.039727  6.073909  \n",
       "\n",
       "[1 rows x 66 columns]"
      ]
     },
     "execution_count": 161,
     "metadata": {},
     "output_type": "execute_result"
    }
   ],
   "source": [
    "df_inflation = "
   ]
  },
  {
   "cell_type": "markdown",
   "id": "81d8d56a",
   "metadata": {},
   "source": [
    "##### Filtering inflation dataset to only South Africa and separating it into pre and post apartheid data"
   ]
  },
  {
   "cell_type": "code",
   "execution_count": 162,
   "id": "486c4f8e",
   "metadata": {},
   "outputs": [
    {
     "ename": "KeyError",
     "evalue": "\"['FREQ_ID', 'FREQ_NAME', 'INDICATOR_ID', 'UNIT_MEASURE_ID', 'AGG_METHOD_ID', 'INDICATOR_ID', 'INDICATOR_NAME', 'UNIT_MEASURE_ID', 'UNIT_MEASURE_NAME', 'AGG_METHOD_ID', 'AGG_METHOD_NAME', 'DECIMALS_ID', 'DECIMALS_NAME', 'DATABASE_ID_ID', 'DATABASE_ID_NAME', 'COMMENT_TS', 'UNIT_MULT_ID', 'UNIT_MULT_NAME', 'DATA_SOURCE_ID', 'DATA_SOURCE_NAME', 'OBS_STATUS_ID', 'OBS_STATUS_NAME', 'OBS_CONF_ID', 'OBS_CONF_NAME'] not found in axis\"",
     "output_type": "error",
     "traceback": [
      "\u001b[1;31m---------------------------------------------------------------------------\u001b[0m",
      "\u001b[1;31mKeyError\u001b[0m                                  Traceback (most recent call last)",
      "Cell \u001b[1;32mIn[162], line 13\u001b[0m\n\u001b[0;32m      5\u001b[0m post_apartheid_years \u001b[38;5;241m=\u001b[39m [\u001b[38;5;28mstr\u001b[39m(y) \u001b[38;5;28;01mfor\u001b[39;00m y \u001b[38;5;129;01min\u001b[39;00m \u001b[38;5;28mrange\u001b[39m(\u001b[38;5;241m1994\u001b[39m, \u001b[38;5;241m2024\u001b[39m)]\n\u001b[0;32m      7\u001b[0m drop_cols \u001b[38;5;241m=\u001b[39m [\n\u001b[0;32m      8\u001b[0m     \u001b[38;5;124m'\u001b[39m\u001b[38;5;124mFREQ_ID\u001b[39m\u001b[38;5;124m'\u001b[39m, \u001b[38;5;124m'\u001b[39m\u001b[38;5;124mindex\u001b[39m\u001b[38;5;124m'\u001b[39m, \u001b[38;5;124m'\u001b[39m\u001b[38;5;124mFREQ_NAME\u001b[39m\u001b[38;5;124m'\u001b[39m, \u001b[38;5;124m'\u001b[39m\u001b[38;5;124mINDICATOR_ID\u001b[39m\u001b[38;5;124m'\u001b[39m, \u001b[38;5;124m'\u001b[39m\u001b[38;5;124mUNIT_MEASURE_ID\u001b[39m\u001b[38;5;124m'\u001b[39m, \u001b[38;5;124m'\u001b[39m\u001b[38;5;124mAGG_METHOD_ID\u001b[39m\u001b[38;5;124m'\u001b[39m, \u001b[38;5;124m'\u001b[39m\u001b[38;5;124mINDICATOR_ID\u001b[39m\u001b[38;5;124m'\u001b[39m,\u001b[38;5;124m'\u001b[39m\u001b[38;5;124mINDICATOR_NAME\u001b[39m\u001b[38;5;124m'\u001b[39m, \u001b[38;5;124m'\u001b[39m\u001b[38;5;124mUNIT_MEASURE_ID\u001b[39m\u001b[38;5;124m'\u001b[39m, \n\u001b[0;32m      9\u001b[0m     \u001b[38;5;124m'\u001b[39m\u001b[38;5;124mUNIT_MEASURE_NAME\u001b[39m\u001b[38;5;124m'\u001b[39m,\u001b[38;5;124m'\u001b[39m\u001b[38;5;124mAGG_METHOD_ID\u001b[39m\u001b[38;5;124m'\u001b[39m, \u001b[38;5;124m'\u001b[39m\u001b[38;5;124mAGG_METHOD_NAME\u001b[39m\u001b[38;5;124m'\u001b[39m, \u001b[38;5;124m'\u001b[39m\u001b[38;5;124mDECIMALS_ID\u001b[39m\u001b[38;5;124m'\u001b[39m, \u001b[38;5;124m'\u001b[39m\u001b[38;5;124mDECIMALS_NAME\u001b[39m\u001b[38;5;124m'\u001b[39m,\u001b[38;5;124m'\u001b[39m\u001b[38;5;124mDATABASE_ID_ID\u001b[39m\u001b[38;5;124m'\u001b[39m,\u001b[38;5;124m'\u001b[39m\u001b[38;5;124mDATABASE_ID_NAME\u001b[39m\u001b[38;5;124m'\u001b[39m, \u001b[38;5;124m'\u001b[39m\u001b[38;5;124mCOMMENT_TS\u001b[39m\u001b[38;5;124m'\u001b[39m, \n\u001b[0;32m     10\u001b[0m     \u001b[38;5;124m'\u001b[39m\u001b[38;5;124mUNIT_MULT_ID\u001b[39m\u001b[38;5;124m'\u001b[39m,\u001b[38;5;124m'\u001b[39m\u001b[38;5;124mUNIT_MULT_NAME\u001b[39m\u001b[38;5;124m'\u001b[39m, \u001b[38;5;124m'\u001b[39m\u001b[38;5;124mDATA_SOURCE_ID\u001b[39m\u001b[38;5;124m'\u001b[39m, \u001b[38;5;124m'\u001b[39m\u001b[38;5;124mDATA_SOURCE_NAME\u001b[39m\u001b[38;5;124m'\u001b[39m, \u001b[38;5;124m'\u001b[39m\u001b[38;5;124mOBS_STATUS_ID\u001b[39m\u001b[38;5;124m'\u001b[39m,\t\u001b[38;5;124m'\u001b[39m\u001b[38;5;124mOBS_STATUS_NAME\u001b[39m\u001b[38;5;124m'\u001b[39m,\u001b[38;5;124m'\u001b[39m\u001b[38;5;124mOBS_CONF_ID\u001b[39m\u001b[38;5;124m'\u001b[39m,\u001b[38;5;124m'\u001b[39m\u001b[38;5;124mOBS_CONF_NAME\u001b[39m\u001b[38;5;124m'\u001b[39m\n\u001b[0;32m     11\u001b[0m     ]\n\u001b[1;32m---> 13\u001b[0m df_gdp \u001b[38;5;241m=\u001b[39m \u001b[43mdf_gdp\u001b[49m\u001b[38;5;241;43m.\u001b[39;49m\u001b[43mdrop\u001b[49m\u001b[43m(\u001b[49m\u001b[43mcolumns\u001b[49m\u001b[38;5;241;43m=\u001b[39;49m\u001b[43mdrop_cols\u001b[49m\u001b[43m)\u001b[49m\n\u001b[0;32m     15\u001b[0m df_gdp_pre_apartheid \u001b[38;5;241m=\u001b[39m df_gdp[[\u001b[38;5;124m'\u001b[39m\u001b[38;5;124mREF_AREA_NAME\u001b[39m\u001b[38;5;124m'\u001b[39m] \u001b[38;5;241m+\u001b[39m pre_apartheid_years]\u001b[38;5;241m.\u001b[39mcopy()\n\u001b[0;32m     16\u001b[0m df_gdp_post_apartheid \u001b[38;5;241m=\u001b[39m df_gdp[[\u001b[38;5;124m'\u001b[39m\u001b[38;5;124mREF_AREA_NAME\u001b[39m\u001b[38;5;124m'\u001b[39m] \u001b[38;5;241m+\u001b[39m post_apartheid_years]\u001b[38;5;241m.\u001b[39mcopy()\n",
      "File \u001b[1;32mc:\\Python311\\Lib\\site-packages\\pandas\\core\\frame.py:5581\u001b[0m, in \u001b[0;36mDataFrame.drop\u001b[1;34m(self, labels, axis, index, columns, level, inplace, errors)\u001b[0m\n\u001b[0;32m   5433\u001b[0m \u001b[38;5;28;01mdef\u001b[39;00m \u001b[38;5;21mdrop\u001b[39m(\n\u001b[0;32m   5434\u001b[0m     \u001b[38;5;28mself\u001b[39m,\n\u001b[0;32m   5435\u001b[0m     labels: IndexLabel \u001b[38;5;241m|\u001b[39m \u001b[38;5;28;01mNone\u001b[39;00m \u001b[38;5;241m=\u001b[39m \u001b[38;5;28;01mNone\u001b[39;00m,\n\u001b[1;32m   (...)\u001b[0m\n\u001b[0;32m   5442\u001b[0m     errors: IgnoreRaise \u001b[38;5;241m=\u001b[39m \u001b[38;5;124m\"\u001b[39m\u001b[38;5;124mraise\u001b[39m\u001b[38;5;124m\"\u001b[39m,\n\u001b[0;32m   5443\u001b[0m ) \u001b[38;5;241m-\u001b[39m\u001b[38;5;241m>\u001b[39m DataFrame \u001b[38;5;241m|\u001b[39m \u001b[38;5;28;01mNone\u001b[39;00m:\n\u001b[0;32m   5444\u001b[0m \u001b[38;5;250m    \u001b[39m\u001b[38;5;124;03m\"\"\"\u001b[39;00m\n\u001b[0;32m   5445\u001b[0m \u001b[38;5;124;03m    Drop specified labels from rows or columns.\u001b[39;00m\n\u001b[0;32m   5446\u001b[0m \n\u001b[1;32m   (...)\u001b[0m\n\u001b[0;32m   5579\u001b[0m \u001b[38;5;124;03m            weight  1.0     0.8\u001b[39;00m\n\u001b[0;32m   5580\u001b[0m \u001b[38;5;124;03m    \"\"\"\u001b[39;00m\n\u001b[1;32m-> 5581\u001b[0m     \u001b[38;5;28;01mreturn\u001b[39;00m \u001b[38;5;28;43msuper\u001b[39;49m\u001b[43m(\u001b[49m\u001b[43m)\u001b[49m\u001b[38;5;241;43m.\u001b[39;49m\u001b[43mdrop\u001b[49m\u001b[43m(\u001b[49m\n\u001b[0;32m   5582\u001b[0m \u001b[43m        \u001b[49m\u001b[43mlabels\u001b[49m\u001b[38;5;241;43m=\u001b[39;49m\u001b[43mlabels\u001b[49m\u001b[43m,\u001b[49m\n\u001b[0;32m   5583\u001b[0m \u001b[43m        \u001b[49m\u001b[43maxis\u001b[49m\u001b[38;5;241;43m=\u001b[39;49m\u001b[43maxis\u001b[49m\u001b[43m,\u001b[49m\n\u001b[0;32m   5584\u001b[0m \u001b[43m        \u001b[49m\u001b[43mindex\u001b[49m\u001b[38;5;241;43m=\u001b[39;49m\u001b[43mindex\u001b[49m\u001b[43m,\u001b[49m\n\u001b[0;32m   5585\u001b[0m \u001b[43m        \u001b[49m\u001b[43mcolumns\u001b[49m\u001b[38;5;241;43m=\u001b[39;49m\u001b[43mcolumns\u001b[49m\u001b[43m,\u001b[49m\n\u001b[0;32m   5586\u001b[0m \u001b[43m        \u001b[49m\u001b[43mlevel\u001b[49m\u001b[38;5;241;43m=\u001b[39;49m\u001b[43mlevel\u001b[49m\u001b[43m,\u001b[49m\n\u001b[0;32m   5587\u001b[0m \u001b[43m        \u001b[49m\u001b[43minplace\u001b[49m\u001b[38;5;241;43m=\u001b[39;49m\u001b[43minplace\u001b[49m\u001b[43m,\u001b[49m\n\u001b[0;32m   5588\u001b[0m \u001b[43m        \u001b[49m\u001b[43merrors\u001b[49m\u001b[38;5;241;43m=\u001b[39;49m\u001b[43merrors\u001b[49m\u001b[43m,\u001b[49m\n\u001b[0;32m   5589\u001b[0m \u001b[43m    \u001b[49m\u001b[43m)\u001b[49m\n",
      "File \u001b[1;32mc:\\Python311\\Lib\\site-packages\\pandas\\core\\generic.py:4788\u001b[0m, in \u001b[0;36mNDFrame.drop\u001b[1;34m(self, labels, axis, index, columns, level, inplace, errors)\u001b[0m\n\u001b[0;32m   4786\u001b[0m \u001b[38;5;28;01mfor\u001b[39;00m axis, labels \u001b[38;5;129;01min\u001b[39;00m axes\u001b[38;5;241m.\u001b[39mitems():\n\u001b[0;32m   4787\u001b[0m     \u001b[38;5;28;01mif\u001b[39;00m labels \u001b[38;5;129;01mis\u001b[39;00m \u001b[38;5;129;01mnot\u001b[39;00m \u001b[38;5;28;01mNone\u001b[39;00m:\n\u001b[1;32m-> 4788\u001b[0m         obj \u001b[38;5;241m=\u001b[39m \u001b[43mobj\u001b[49m\u001b[38;5;241;43m.\u001b[39;49m\u001b[43m_drop_axis\u001b[49m\u001b[43m(\u001b[49m\u001b[43mlabels\u001b[49m\u001b[43m,\u001b[49m\u001b[43m \u001b[49m\u001b[43maxis\u001b[49m\u001b[43m,\u001b[49m\u001b[43m \u001b[49m\u001b[43mlevel\u001b[49m\u001b[38;5;241;43m=\u001b[39;49m\u001b[43mlevel\u001b[49m\u001b[43m,\u001b[49m\u001b[43m \u001b[49m\u001b[43merrors\u001b[49m\u001b[38;5;241;43m=\u001b[39;49m\u001b[43merrors\u001b[49m\u001b[43m)\u001b[49m\n\u001b[0;32m   4790\u001b[0m \u001b[38;5;28;01mif\u001b[39;00m inplace:\n\u001b[0;32m   4791\u001b[0m     \u001b[38;5;28mself\u001b[39m\u001b[38;5;241m.\u001b[39m_update_inplace(obj)\n",
      "File \u001b[1;32mc:\\Python311\\Lib\\site-packages\\pandas\\core\\generic.py:4830\u001b[0m, in \u001b[0;36mNDFrame._drop_axis\u001b[1;34m(self, labels, axis, level, errors, only_slice)\u001b[0m\n\u001b[0;32m   4828\u001b[0m         new_axis \u001b[38;5;241m=\u001b[39m axis\u001b[38;5;241m.\u001b[39mdrop(labels, level\u001b[38;5;241m=\u001b[39mlevel, errors\u001b[38;5;241m=\u001b[39merrors)\n\u001b[0;32m   4829\u001b[0m     \u001b[38;5;28;01melse\u001b[39;00m:\n\u001b[1;32m-> 4830\u001b[0m         new_axis \u001b[38;5;241m=\u001b[39m \u001b[43maxis\u001b[49m\u001b[38;5;241;43m.\u001b[39;49m\u001b[43mdrop\u001b[49m\u001b[43m(\u001b[49m\u001b[43mlabels\u001b[49m\u001b[43m,\u001b[49m\u001b[43m \u001b[49m\u001b[43merrors\u001b[49m\u001b[38;5;241;43m=\u001b[39;49m\u001b[43merrors\u001b[49m\u001b[43m)\u001b[49m\n\u001b[0;32m   4831\u001b[0m     indexer \u001b[38;5;241m=\u001b[39m axis\u001b[38;5;241m.\u001b[39mget_indexer(new_axis)\n\u001b[0;32m   4833\u001b[0m \u001b[38;5;66;03m# Case for non-unique axis\u001b[39;00m\n\u001b[0;32m   4834\u001b[0m \u001b[38;5;28;01melse\u001b[39;00m:\n",
      "File \u001b[1;32mc:\\Python311\\Lib\\site-packages\\pandas\\core\\indexes\\base.py:7070\u001b[0m, in \u001b[0;36mIndex.drop\u001b[1;34m(self, labels, errors)\u001b[0m\n\u001b[0;32m   7068\u001b[0m \u001b[38;5;28;01mif\u001b[39;00m mask\u001b[38;5;241m.\u001b[39many():\n\u001b[0;32m   7069\u001b[0m     \u001b[38;5;28;01mif\u001b[39;00m errors \u001b[38;5;241m!=\u001b[39m \u001b[38;5;124m\"\u001b[39m\u001b[38;5;124mignore\u001b[39m\u001b[38;5;124m\"\u001b[39m:\n\u001b[1;32m-> 7070\u001b[0m         \u001b[38;5;28;01mraise\u001b[39;00m \u001b[38;5;167;01mKeyError\u001b[39;00m(\u001b[38;5;124mf\u001b[39m\u001b[38;5;124m\"\u001b[39m\u001b[38;5;132;01m{\u001b[39;00mlabels[mask]\u001b[38;5;241m.\u001b[39mtolist()\u001b[38;5;132;01m}\u001b[39;00m\u001b[38;5;124m not found in axis\u001b[39m\u001b[38;5;124m\"\u001b[39m)\n\u001b[0;32m   7071\u001b[0m     indexer \u001b[38;5;241m=\u001b[39m indexer[\u001b[38;5;241m~\u001b[39mmask]\n\u001b[0;32m   7072\u001b[0m \u001b[38;5;28;01mreturn\u001b[39;00m \u001b[38;5;28mself\u001b[39m\u001b[38;5;241m.\u001b[39mdelete(indexer)\n",
      "\u001b[1;31mKeyError\u001b[0m: \"['FREQ_ID', 'FREQ_NAME', 'INDICATOR_ID', 'UNIT_MEASURE_ID', 'AGG_METHOD_ID', 'INDICATOR_ID', 'INDICATOR_NAME', 'UNIT_MEASURE_ID', 'UNIT_MEASURE_NAME', 'AGG_METHOD_ID', 'AGG_METHOD_NAME', 'DECIMALS_ID', 'DECIMALS_NAME', 'DATABASE_ID_ID', 'DATABASE_ID_NAME', 'COMMENT_TS', 'UNIT_MULT_ID', 'UNIT_MULT_NAME', 'DATA_SOURCE_ID', 'DATA_SOURCE_NAME', 'OBS_STATUS_ID', 'OBS_STATUS_NAME', 'OBS_CONF_ID', 'OBS_CONF_NAME'] not found in axis\""
     ]
    }
   ],
   "source": [
    "df_gdp = df_gdp[df_gdp['REF_AREA_NAME'] == 'South Africa'].reset_index()\n",
    "\n",
    "pre_apartheid_years = [str(y) for y in range(1961, 1994)]\n",
    "\n",
    "post_apartheid_years = [str(y) for y in range(1994, 2024)]\n",
    "\n",
    "drop_cols = [\n",
    "    'FREQ_ID', 'index', 'FREQ_NAME', 'INDICATOR_ID', 'UNIT_MEASURE_ID', 'AGG_METHOD_ID', 'INDICATOR_ID','INDICATOR_NAME', 'UNIT_MEASURE_ID', \n",
    "    'UNIT_MEASURE_NAME','AGG_METHOD_ID', 'AGG_METHOD_NAME', 'DECIMALS_ID', 'DECIMALS_NAME','DATABASE_ID_ID','DATABASE_ID_NAME', 'COMMENT_TS', \n",
    "    'UNIT_MULT_ID','UNIT_MULT_NAME', 'DATA_SOURCE_ID', 'DATA_SOURCE_NAME', 'OBS_STATUS_ID',\t'OBS_STATUS_NAME','OBS_CONF_ID','OBS_CONF_NAME'\n",
    "    ]\n",
    "\n",
    "df_gdp = df_gdp.drop(columns=drop_cols)\n",
    "\n",
    "df_gdp_pre_apartheid = df_gdp[['REF_AREA_NAME'] + pre_apartheid_years].copy()\n",
    "df_gdp_post_apartheid = df_gdp[['REF_AREA_NAME'] + post_apartheid_years].copy()\n",
    "\n",
    "df_gdp_pre_apartheid"
   ]
  },
  {
   "cell_type": "markdown",
   "id": "02442393",
   "metadata": {},
   "source": [
    "##### Filtering inflation dataset to only South Africa and separating it into pre and post apartheid data"
   ]
  },
  {
   "cell_type": "code",
   "execution_count": 156,
   "id": "fa1c15ac",
   "metadata": {},
   "outputs": [
    {
     "data": {
      "text/html": [
       "<div>\n",
       "<style scoped>\n",
       "    .dataframe tbody tr th:only-of-type {\n",
       "        vertical-align: middle;\n",
       "    }\n",
       "\n",
       "    .dataframe tbody tr th {\n",
       "        vertical-align: top;\n",
       "    }\n",
       "\n",
       "    .dataframe thead th {\n",
       "        text-align: right;\n",
       "    }\n",
       "</style>\n",
       "<table border=\"1\" class=\"dataframe\">\n",
       "  <thead>\n",
       "    <tr style=\"text-align: right;\">\n",
       "      <th></th>\n",
       "      <th>REF_AREA_NAME</th>\n",
       "      <th>1961</th>\n",
       "      <th>1962</th>\n",
       "      <th>1963</th>\n",
       "      <th>1964</th>\n",
       "      <th>1965</th>\n",
       "      <th>1966</th>\n",
       "      <th>1967</th>\n",
       "      <th>1968</th>\n",
       "      <th>1969</th>\n",
       "      <th>...</th>\n",
       "      <th>1984</th>\n",
       "      <th>1985</th>\n",
       "      <th>1986</th>\n",
       "      <th>1987</th>\n",
       "      <th>1988</th>\n",
       "      <th>1989</th>\n",
       "      <th>1990</th>\n",
       "      <th>1991</th>\n",
       "      <th>1992</th>\n",
       "      <th>1993</th>\n",
       "    </tr>\n",
       "  </thead>\n",
       "  <tbody>\n",
       "    <tr>\n",
       "      <th>0</th>\n",
       "      <td>South Africa</td>\n",
       "      <td>2.102374</td>\n",
       "      <td>1.246285</td>\n",
       "      <td>1.33797</td>\n",
       "      <td>2.534973</td>\n",
       "      <td>4.069029</td>\n",
       "      <td>3.489234</td>\n",
       "      <td>3.538992</td>\n",
       "      <td>1.986136</td>\n",
       "      <td>3.238225</td>\n",
       "      <td>...</td>\n",
       "      <td>11.526481</td>\n",
       "      <td>16.294227</td>\n",
       "      <td>18.654919</td>\n",
       "      <td>16.160581</td>\n",
       "      <td>12.779545</td>\n",
       "      <td>14.730918</td>\n",
       "      <td>14.320956</td>\n",
       "      <td>15.334802</td>\n",
       "      <td>13.87468</td>\n",
       "      <td>9.717467</td>\n",
       "    </tr>\n",
       "  </tbody>\n",
       "</table>\n",
       "<p>1 rows × 34 columns</p>\n",
       "</div>"
      ],
      "text/plain": [
       "  REF_AREA_NAME      1961      1962     1963      1964      1965      1966  \\\n",
       "0  South Africa  2.102374  1.246285  1.33797  2.534973  4.069029  3.489234   \n",
       "\n",
       "       1967      1968      1969  ...       1984       1985       1986  \\\n",
       "0  3.538992  1.986136  3.238225  ...  11.526481  16.294227  18.654919   \n",
       "\n",
       "        1987       1988       1989       1990       1991      1992      1993  \n",
       "0  16.160581  12.779545  14.730918  14.320956  15.334802  13.87468  9.717467  \n",
       "\n",
       "[1 rows x 34 columns]"
      ]
     },
     "execution_count": 156,
     "metadata": {},
     "output_type": "execute_result"
    }
   ],
   "source": [
    "df_inflation = df_inflation[df_inflation['REF_AREA_NAME'] == 'South Africa'].reset_index()\n",
    "\n",
    "df_inflation = df_inflation.drop(columns=drop_cols)\n",
    "\n",
    "df_inf_pre_apartheid = df_inflation[['REF_AREA_NAME'] + pre_apartheid_years].copy()\n",
    "df_inf_post_apartheid = df_inflation[['REF_AREA_NAME'] + post_apartheid_years].copy()\n",
    "\n",
    "df_inf_pre_apartheid"
   ]
  },
  {
   "cell_type": "code",
   "execution_count": 157,
   "id": "858496bb",
   "metadata": {},
   "outputs": [],
   "source": [
    "df_gdp_pre_apartheid.fillna(df_gdp_pre_apartheid.mean(numeric_only=True), inplace=True)\n",
    "df_gdp_post_apartheid.fillna(df_gdp_post_apartheid.mean(numeric_only=True), inplace=True)\n",
    "df_inf_pre_apartheid.fillna(df_inf_pre_apartheid.mean(numeric_only=True), inplace=True)\n",
    "df_inf_post_apartheid.fillna(df_inf_post_apartheid.mean(numeric_only=True), inplace=True)"
   ]
  },
  {
   "cell_type": "markdown",
   "id": "8b72e96c",
   "metadata": {},
   "source": [
    "##### Renaming the 'REF_AREA_NAME' columns of each dataset to 'Country'"
   ]
  },
  {
   "cell_type": "code",
   "execution_count": 158,
   "id": "9915f5e7",
   "metadata": {},
   "outputs": [],
   "source": [
    "for df in [df_gdp_pre_apartheid, df_gdp_post_apartheid, df_inf_pre_apartheid, df_inf_post_apartheid]:\n",
    "    df.rename(columns={'REF_AREA_NAME': 'Country'}, inplace=True)"
   ]
  },
  {
   "cell_type": "code",
   "execution_count": 159,
   "id": "ceabca4e",
   "metadata": {},
   "outputs": [
    {
     "data": {
      "text/html": [
       "<div>\n",
       "<style scoped>\n",
       "    .dataframe tbody tr th:only-of-type {\n",
       "        vertical-align: middle;\n",
       "    }\n",
       "\n",
       "    .dataframe tbody tr th {\n",
       "        vertical-align: top;\n",
       "    }\n",
       "\n",
       "    .dataframe thead th {\n",
       "        text-align: right;\n",
       "    }\n",
       "</style>\n",
       "<table border=\"1\" class=\"dataframe\">\n",
       "  <thead>\n",
       "    <tr style=\"text-align: right;\">\n",
       "      <th></th>\n",
       "      <th>Country</th>\n",
       "      <th>1961</th>\n",
       "      <th>1962</th>\n",
       "      <th>1963</th>\n",
       "      <th>1964</th>\n",
       "      <th>1965</th>\n",
       "      <th>1966</th>\n",
       "      <th>1967</th>\n",
       "      <th>1968</th>\n",
       "      <th>1969</th>\n",
       "      <th>...</th>\n",
       "      <th>1984</th>\n",
       "      <th>1985</th>\n",
       "      <th>1986</th>\n",
       "      <th>1987</th>\n",
       "      <th>1988</th>\n",
       "      <th>1989</th>\n",
       "      <th>1990</th>\n",
       "      <th>1991</th>\n",
       "      <th>1992</th>\n",
       "      <th>1993</th>\n",
       "    </tr>\n",
       "  </thead>\n",
       "  <tbody>\n",
       "    <tr>\n",
       "      <th>0</th>\n",
       "      <td>South Africa</td>\n",
       "      <td>2.102374</td>\n",
       "      <td>1.246285</td>\n",
       "      <td>1.33797</td>\n",
       "      <td>2.534973</td>\n",
       "      <td>4.069029</td>\n",
       "      <td>3.489234</td>\n",
       "      <td>3.538992</td>\n",
       "      <td>1.986136</td>\n",
       "      <td>3.238225</td>\n",
       "      <td>...</td>\n",
       "      <td>11.526481</td>\n",
       "      <td>16.294227</td>\n",
       "      <td>18.654919</td>\n",
       "      <td>16.160581</td>\n",
       "      <td>12.779545</td>\n",
       "      <td>14.730918</td>\n",
       "      <td>14.320956</td>\n",
       "      <td>15.334802</td>\n",
       "      <td>13.87468</td>\n",
       "      <td>9.717467</td>\n",
       "    </tr>\n",
       "  </tbody>\n",
       "</table>\n",
       "<p>1 rows × 34 columns</p>\n",
       "</div>"
      ],
      "text/plain": [
       "        Country      1961      1962     1963      1964      1965      1966  \\\n",
       "0  South Africa  2.102374  1.246285  1.33797  2.534973  4.069029  3.489234   \n",
       "\n",
       "       1967      1968      1969  ...       1984       1985       1986  \\\n",
       "0  3.538992  1.986136  3.238225  ...  11.526481  16.294227  18.654919   \n",
       "\n",
       "        1987       1988       1989       1990       1991      1992      1993  \n",
       "0  16.160581  12.779545  14.730918  14.320956  15.334802  13.87468  9.717467  \n",
       "\n",
       "[1 rows x 34 columns]"
      ]
     },
     "execution_count": 159,
     "metadata": {},
     "output_type": "execute_result"
    }
   ],
   "source": [
    "df_inf_pre_apartheid"
   ]
  },
  {
   "cell_type": "markdown",
   "id": "9273c1f7",
   "metadata": {},
   "source": [
    "### Merging Datasets"
   ]
  },
  {
   "cell_type": "code",
   "execution_count": null,
   "id": "31c508ae",
   "metadata": {},
   "outputs": [],
   "source": []
  },
  {
   "cell_type": "code",
   "execution_count": 160,
   "id": "94d52ac9",
   "metadata": {},
   "outputs": [
    {
     "ename": "KeyError",
     "evalue": "\"The following id_vars or value_vars are not present in the DataFrame: ['Country']\"",
     "output_type": "error",
     "traceback": [
      "\u001b[1;31m---------------------------------------------------------------------------\u001b[0m",
      "\u001b[1;31mKeyError\u001b[0m                                  Traceback (most recent call last)",
      "Cell \u001b[1;32mIn[160], line 2\u001b[0m\n\u001b[0;32m      1\u001b[0m \u001b[38;5;66;03m# Reshape Inflation data\u001b[39;00m\n\u001b[1;32m----> 2\u001b[0m inflation_long \u001b[38;5;241m=\u001b[39m \u001b[43mdf_inflation\u001b[49m\u001b[38;5;241;43m.\u001b[39;49m\u001b[43mmelt\u001b[49m\u001b[43m(\u001b[49m\n\u001b[0;32m      3\u001b[0m \u001b[43m    \u001b[49m\u001b[43mid_vars\u001b[49m\u001b[38;5;241;43m=\u001b[39;49m\u001b[38;5;124;43m'\u001b[39;49m\u001b[38;5;124;43mCountry\u001b[39;49m\u001b[38;5;124;43m'\u001b[39;49m\u001b[43m,\u001b[49m\n\u001b[0;32m      4\u001b[0m \u001b[43m    \u001b[49m\u001b[43mvar_name\u001b[49m\u001b[38;5;241;43m=\u001b[39;49m\u001b[38;5;124;43m'\u001b[39;49m\u001b[38;5;124;43mYear\u001b[39;49m\u001b[38;5;124;43m'\u001b[39;49m\u001b[43m,\u001b[49m\n\u001b[0;32m      5\u001b[0m \u001b[43m    \u001b[49m\u001b[43mvalue_name\u001b[49m\u001b[38;5;241;43m=\u001b[39;49m\u001b[38;5;124;43m'\u001b[39;49m\u001b[38;5;124;43mInflation\u001b[39;49m\u001b[38;5;124;43m'\u001b[39;49m\n\u001b[0;32m      6\u001b[0m \u001b[43m)\u001b[49m\n\u001b[0;32m      8\u001b[0m \u001b[38;5;66;03m# Reshape GDP data\u001b[39;00m\n\u001b[0;32m      9\u001b[0m gdp_long \u001b[38;5;241m=\u001b[39m df_gdp\u001b[38;5;241m.\u001b[39mmelt(\n\u001b[0;32m     10\u001b[0m     id_vars\u001b[38;5;241m=\u001b[39m\u001b[38;5;124m'\u001b[39m\u001b[38;5;124mCountry\u001b[39m\u001b[38;5;124m'\u001b[39m,\n\u001b[0;32m     11\u001b[0m     var_name\u001b[38;5;241m=\u001b[39m\u001b[38;5;124m'\u001b[39m\u001b[38;5;124mYear\u001b[39m\u001b[38;5;124m'\u001b[39m,\n\u001b[0;32m     12\u001b[0m     value_name\u001b[38;5;241m=\u001b[39m\u001b[38;5;124m'\u001b[39m\u001b[38;5;124mGDP\u001b[39m\u001b[38;5;124m'\u001b[39m\n\u001b[0;32m     13\u001b[0m )\n",
      "File \u001b[1;32mc:\\Python311\\Lib\\site-packages\\pandas\\core\\frame.py:9942\u001b[0m, in \u001b[0;36mDataFrame.melt\u001b[1;34m(self, id_vars, value_vars, var_name, value_name, col_level, ignore_index)\u001b[0m\n\u001b[0;32m   9932\u001b[0m \u001b[38;5;129m@Appender\u001b[39m(_shared_docs[\u001b[38;5;124m\"\u001b[39m\u001b[38;5;124mmelt\u001b[39m\u001b[38;5;124m\"\u001b[39m] \u001b[38;5;241m%\u001b[39m {\u001b[38;5;124m\"\u001b[39m\u001b[38;5;124mcaller\u001b[39m\u001b[38;5;124m\"\u001b[39m: \u001b[38;5;124m\"\u001b[39m\u001b[38;5;124mdf.melt(\u001b[39m\u001b[38;5;124m\"\u001b[39m, \u001b[38;5;124m\"\u001b[39m\u001b[38;5;124mother\u001b[39m\u001b[38;5;124m\"\u001b[39m: \u001b[38;5;124m\"\u001b[39m\u001b[38;5;124mmelt\u001b[39m\u001b[38;5;124m\"\u001b[39m})\n\u001b[0;32m   9933\u001b[0m \u001b[38;5;28;01mdef\u001b[39;00m \u001b[38;5;21mmelt\u001b[39m(\n\u001b[0;32m   9934\u001b[0m     \u001b[38;5;28mself\u001b[39m,\n\u001b[1;32m   (...)\u001b[0m\n\u001b[0;32m   9940\u001b[0m     ignore_index: \u001b[38;5;28mbool\u001b[39m \u001b[38;5;241m=\u001b[39m \u001b[38;5;28;01mTrue\u001b[39;00m,\n\u001b[0;32m   9941\u001b[0m ) \u001b[38;5;241m-\u001b[39m\u001b[38;5;241m>\u001b[39m DataFrame:\n\u001b[1;32m-> 9942\u001b[0m     \u001b[38;5;28;01mreturn\u001b[39;00m \u001b[43mmelt\u001b[49m\u001b[43m(\u001b[49m\n\u001b[0;32m   9943\u001b[0m \u001b[43m        \u001b[49m\u001b[38;5;28;43mself\u001b[39;49m\u001b[43m,\u001b[49m\n\u001b[0;32m   9944\u001b[0m \u001b[43m        \u001b[49m\u001b[43mid_vars\u001b[49m\u001b[38;5;241;43m=\u001b[39;49m\u001b[43mid_vars\u001b[49m\u001b[43m,\u001b[49m\n\u001b[0;32m   9945\u001b[0m \u001b[43m        \u001b[49m\u001b[43mvalue_vars\u001b[49m\u001b[38;5;241;43m=\u001b[39;49m\u001b[43mvalue_vars\u001b[49m\u001b[43m,\u001b[49m\n\u001b[0;32m   9946\u001b[0m \u001b[43m        \u001b[49m\u001b[43mvar_name\u001b[49m\u001b[38;5;241;43m=\u001b[39;49m\u001b[43mvar_name\u001b[49m\u001b[43m,\u001b[49m\n\u001b[0;32m   9947\u001b[0m \u001b[43m        \u001b[49m\u001b[43mvalue_name\u001b[49m\u001b[38;5;241;43m=\u001b[39;49m\u001b[43mvalue_name\u001b[49m\u001b[43m,\u001b[49m\n\u001b[0;32m   9948\u001b[0m \u001b[43m        \u001b[49m\u001b[43mcol_level\u001b[49m\u001b[38;5;241;43m=\u001b[39;49m\u001b[43mcol_level\u001b[49m\u001b[43m,\u001b[49m\n\u001b[0;32m   9949\u001b[0m \u001b[43m        \u001b[49m\u001b[43mignore_index\u001b[49m\u001b[38;5;241;43m=\u001b[39;49m\u001b[43mignore_index\u001b[49m\u001b[43m,\u001b[49m\n\u001b[0;32m   9950\u001b[0m \u001b[43m    \u001b[49m\u001b[43m)\u001b[49m\u001b[38;5;241m.\u001b[39m__finalize__(\u001b[38;5;28mself\u001b[39m, method\u001b[38;5;241m=\u001b[39m\u001b[38;5;124m\"\u001b[39m\u001b[38;5;124mmelt\u001b[39m\u001b[38;5;124m\"\u001b[39m)\n",
      "File \u001b[1;32mc:\\Python311\\Lib\\site-packages\\pandas\\core\\reshape\\melt.py:74\u001b[0m, in \u001b[0;36mmelt\u001b[1;34m(frame, id_vars, value_vars, var_name, value_name, col_level, ignore_index)\u001b[0m\n\u001b[0;32m     70\u001b[0m \u001b[38;5;28;01mif\u001b[39;00m missing\u001b[38;5;241m.\u001b[39many():\n\u001b[0;32m     71\u001b[0m     missing_labels \u001b[38;5;241m=\u001b[39m [\n\u001b[0;32m     72\u001b[0m         lab \u001b[38;5;28;01mfor\u001b[39;00m lab, not_found \u001b[38;5;129;01min\u001b[39;00m \u001b[38;5;28mzip\u001b[39m(labels, missing) \u001b[38;5;28;01mif\u001b[39;00m not_found\n\u001b[0;32m     73\u001b[0m     ]\n\u001b[1;32m---> 74\u001b[0m     \u001b[38;5;28;01mraise\u001b[39;00m \u001b[38;5;167;01mKeyError\u001b[39;00m(\n\u001b[0;32m     75\u001b[0m         \u001b[38;5;124m\"\u001b[39m\u001b[38;5;124mThe following id_vars or value_vars are not present in \u001b[39m\u001b[38;5;124m\"\u001b[39m\n\u001b[0;32m     76\u001b[0m         \u001b[38;5;124mf\u001b[39m\u001b[38;5;124m\"\u001b[39m\u001b[38;5;124mthe DataFrame: \u001b[39m\u001b[38;5;132;01m{\u001b[39;00mmissing_labels\u001b[38;5;132;01m}\u001b[39;00m\u001b[38;5;124m\"\u001b[39m\n\u001b[0;32m     77\u001b[0m     )\n\u001b[0;32m     78\u001b[0m \u001b[38;5;28;01mif\u001b[39;00m value_vars_was_not_none:\n\u001b[0;32m     79\u001b[0m     frame \u001b[38;5;241m=\u001b[39m frame\u001b[38;5;241m.\u001b[39miloc[:, algos\u001b[38;5;241m.\u001b[39munique(idx)]\n",
      "\u001b[1;31mKeyError\u001b[0m: \"The following id_vars or value_vars are not present in the DataFrame: ['Country']\""
     ]
    }
   ],
   "source": [
    "# Reshape Inflation data\n",
    "inflation_long = df_inflation.melt(\n",
    "    id_vars='Country',\n",
    "    var_name='Year',\n",
    "    value_name='Inflation'\n",
    ")\n",
    "\n",
    "# Reshape GDP data\n",
    "gdp_long = df_gdp.melt(\n",
    "    id_vars='Country',\n",
    "    var_name='Year',\n",
    "    value_name='GDP'\n",
    ")\n",
    "\n",
    "# Convert Year to integer for both\n",
    "inflation_long['Year'] = inflation_long['Year'].astype(int)\n",
    "gdp_long['Year'] = gdp_long['Year'].astype(int)\n",
    "\n",
    "# Merge on Country and Year\n",
    "merged_df = pd.merge(inflation_long, gdp_long, on=['Country', 'Year'])"
   ]
  }
 ],
 "metadata": {
  "kernelspec": {
   "display_name": "Python 3",
   "language": "python",
   "name": "python3"
  },
  "language_info": {
   "codemirror_mode": {
    "name": "ipython",
    "version": 3
   },
   "file_extension": ".py",
   "mimetype": "text/x-python",
   "name": "python",
   "nbconvert_exporter": "python",
   "pygments_lexer": "ipython3",
   "version": "3.11.4"
  }
 },
 "nbformat": 4,
 "nbformat_minor": 5
}
