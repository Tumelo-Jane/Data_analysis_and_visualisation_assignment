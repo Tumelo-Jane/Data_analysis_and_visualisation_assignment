{
 "cells": [
  {
   "cell_type": "code",
   "execution_count": 15,
   "id": "88a7fbe6",
   "metadata": {},
   "outputs": [],
   "source": [
    "import pandas as pd\n",
    "\n",
    "gdp_df = pd.read_csv('GDP.csv')\n",
    "inflation_df = pd.read_csv('Inflation1.csv')"
   ]
  },
  {
   "cell_type": "markdown",
   "id": "76fea373",
   "metadata": {},
   "source": [
    "Filtering the 2 datasets to just south africa"
   ]
  },
  {
   "cell_type": "code",
   "execution_count": 16,
   "id": "173b1867",
   "metadata": {},
   "outputs": [],
   "source": [
    "gdp_sa = gdp_df[gdp_df['REF_AREA_NAME'].str.lower() == 'south africa']\n",
    "inflation_sa = inflation_df[inflation_df['REF_AREA_NAME'].str.lower() == 'south africa']"
   ]
  },
  {
   "cell_type": "code",
   "execution_count": 17,
   "id": "0a930003",
   "metadata": {},
   "outputs": [
    {
     "name": "stdout",
     "output_type": "stream",
     "text": [
      "    FREQ_ID FREQ_NAME REF_AREA_ID REF_AREA_NAME              INDICATOR_ID  \\\n",
      "259       A    Annual         ZAF  South Africa  WB_WDI_NY_GDP_MKTP_KD_ZG   \n",
      "\n",
      "            INDICATOR_NAME UNIT_MEASURE_ID            UNIT_MEASURE_NAME  \\\n",
      "259  GDP growth (annual %)            PC_A  Percentage change per annum   \n",
      "\n",
      "    AGG_METHOD_ID AGG_METHOD_NAME  ...      2014      2015      2016  \\\n",
      "259            _Z  Not Applicable  ...  1.413826  1.321862  0.664552   \n",
      "\n",
      "         2017      2018      2019      2020      2021     2022      2023  \n",
      "259  1.157947  1.556784  0.259936 -6.168918  4.955033  1.91148  0.698485  \n",
      "\n",
      "[1 rows x 86 columns]\n",
      "    FREQ_ID FREQ_NAME REF_AREA_ID REF_AREA_NAME           INDICATOR_ID  \\\n",
      "237       A    Annual         ZAF  South Africa  WB_WDI_FP_CPI_TOTL_ZG   \n",
      "\n",
      "                            INDICATOR_NAME UNIT_MEASURE_ID  \\\n",
      "237  Inflation, consumer prices (annual %)            PC_A   \n",
      "\n",
      "               UNIT_MEASURE_NAME AGG_METHOD_ID AGG_METHOD_NAME  ...      2014  \\\n",
      "237  Percentage change per annum            _Z  Not Applicable  ...  6.129838   \n",
      "\n",
      "         2015      2016      2017      2018      2019      2020      2021  \\\n",
      "237  4.540642  6.571396  5.184247  4.517165  4.120246  3.210036  4.611672   \n",
      "\n",
      "         2022      2023  \n",
      "237  7.039727  6.073909  \n",
      "\n",
      "[1 rows x 87 columns]\n"
     ]
    }
   ],
   "source": [
    "print(gdp_sa)\n",
    "print(inflation_sa)"
   ]
  },
  {
   "cell_type": "markdown",
   "id": "b0bb6ec8",
   "metadata": {},
   "source": [
    "dropping unnecessary columns ( to clean the datasets for better interpretation)"
   ]
  },
  {
   "cell_type": "code",
   "execution_count": null,
   "id": "c72965b5",
   "metadata": {},
   "outputs": [],
   "source": [
    "def keep_year_columns(df):\n",
    "    \n",
    "    year_cols = [col for col in df.columns if col.isdigit()]\n",
    "    \n",
    "    return df[['REF_AREA_NAME'] + year_cols]\n",
    "gdp_sa = keep_year_columns(gdp_sa)\n",
    "inflation_sa = keep_year_columns(inflation_sa)"
   ]
  },
  {
   "cell_type": "code",
   "execution_count": 19,
   "id": "a56bac92",
   "metadata": {},
   "outputs": [
    {
     "name": "stdout",
     "output_type": "stream",
     "text": [
      "    REF_AREA_NAME      1961      1962      1963      1964      1965      1966  \\\n",
      "259  South Africa  3.844734  6.177931  7.373709  7.939609  6.122798  4.438386   \n",
      "\n",
      "         1967      1968      1969  ...      2014      2015      2016  \\\n",
      "259  7.196523  4.153373  4.715903  ...  1.413826  1.321862  0.664552   \n",
      "\n",
      "         2017      2018      2019      2020      2021     2022      2023  \n",
      "259  1.157947  1.556784  0.259936 -6.168918  4.955033  1.91148  0.698485  \n",
      "\n",
      "[1 rows x 64 columns]\n",
      "    REF_AREA_NAME      1960      1961      1962     1963      1964      1965  \\\n",
      "237  South Africa  1.288859  2.102374  1.246285  1.33797  2.534973  4.069029   \n",
      "\n",
      "         1966      1967      1968  ...      2014      2015      2016  \\\n",
      "237  3.489234  3.538992  1.986136  ...  6.129838  4.540642  6.571396   \n",
      "\n",
      "         2017      2018      2019      2020      2021      2022      2023  \n",
      "237  5.184247  4.517165  4.120246  3.210036  4.611672  7.039727  6.073909  \n",
      "\n",
      "[1 rows x 65 columns]\n"
     ]
    }
   ],
   "source": [
    "print(gdp_sa)\n",
    "print(inflation_sa)"
   ]
  },
  {
   "cell_type": "markdown",
   "id": "dc320bca",
   "metadata": {},
   "source": [
    "dropping all columns that have a value of zero "
   ]
  },
  {
   "cell_type": "code",
   "execution_count": 20,
   "id": "72f755be",
   "metadata": {},
   "outputs": [
    {
     "name": "stdout",
     "output_type": "stream",
     "text": [
      "Cleaned GDP Data:\n",
      "     REF_AREA_NAME      1961      1962      1963      1964      1965      1966  \\\n",
      "259  South Africa  3.844734  6.177931  7.373709  7.939609  6.122798  4.438386   \n",
      "\n",
      "         1967      1968      1969  ...      2014      2015      2016  \\\n",
      "259  7.196523  4.153373  4.715903  ...  1.413826  1.321862  0.664552   \n",
      "\n",
      "         2017      2018      2019      2020      2021     2022      2023  \n",
      "259  1.157947  1.556784  0.259936 -6.168918  4.955033  1.91148  0.698485  \n",
      "\n",
      "[1 rows x 64 columns] \n",
      "\n",
      "Cleaned Inflation Data:\n",
      "     REF_AREA_NAME      1960      1961      1962     1963      1964      1965  \\\n",
      "237  South Africa  1.288859  2.102374  1.246285  1.33797  2.534973  4.069029   \n",
      "\n",
      "         1966      1967      1968  ...      2014      2015      2016  \\\n",
      "237  3.489234  3.538992  1.986136  ...  6.129838  4.540642  6.571396   \n",
      "\n",
      "         2017      2018      2019      2020      2021      2022      2023  \n",
      "237  5.184247  4.517165  4.120246  3.210036  4.611672  7.039727  6.073909  \n",
      "\n",
      "[1 rows x 65 columns]\n"
     ]
    }
   ],
   "source": [
    "# Drop columns where all values are zero in both datasets and print the cleaned results\n",
    "def drop_zero_columns(df):\n",
    "    # Exclude 'REF_AREA_NAME' from check\n",
    "    cols_to_check = [col for col in df.columns if col != 'REF_AREA_NAME']\n",
    "    # Keep columns where not all values are zero\n",
    "    non_zero_cols = [col for col in cols_to_check if not (df[col] == 0).all()]\n",
    "    # Always keep 'REF_AREA_NAME'\n",
    "    return df[['REF_AREA_NAME'] + non_zero_cols]\n",
    "\n",
    "gdp_sa = drop_zero_columns(gdp_sa); \n",
    "inflation_sa = drop_zero_columns(inflation_sa); \n",
    "print(\"Cleaned GDP Data:\\n\", gdp_sa, \"\\n\\nCleaned Inflation Data:\\n\", inflation_sa)"
   ]
  },
  {
   "cell_type": "markdown",
   "id": "00dbf07a",
   "metadata": {},
   "source": [
    "rename ref area name to country "
   ]
  },
  {
   "cell_type": "code",
   "execution_count": 21,
   "id": "d923d322",
   "metadata": {},
   "outputs": [],
   "source": [
    "\n",
    "gdp_sa = gdp_sa.rename(columns={'REF_AREA_NAME': 'Country'}); \n",
    "inflation_sa = inflation_sa.rename(columns={'REF_AREA_NAME': 'Country'})"
   ]
  },
  {
   "cell_type": "code",
   "execution_count": 22,
   "id": "479d429e",
   "metadata": {},
   "outputs": [
    {
     "name": "stdout",
     "output_type": "stream",
     "text": [
      "          Country      1961      1962      1963      1964      1965      1966  \\\n",
      "259  South Africa  3.844734  6.177931  7.373709  7.939609  6.122798  4.438386   \n",
      "\n",
      "         1967      1968      1969  ...      2014      2015      2016  \\\n",
      "259  7.196523  4.153373  4.715903  ...  1.413826  1.321862  0.664552   \n",
      "\n",
      "         2017      2018      2019      2020      2021     2022      2023  \n",
      "259  1.157947  1.556784  0.259936 -6.168918  4.955033  1.91148  0.698485  \n",
      "\n",
      "[1 rows x 64 columns]           Country      1960      1961      1962     1963      1964      1965  \\\n",
      "237  South Africa  1.288859  2.102374  1.246285  1.33797  2.534973  4.069029   \n",
      "\n",
      "         1966      1967      1968  ...      2014      2015      2016  \\\n",
      "237  3.489234  3.538992  1.986136  ...  6.129838  4.540642  6.571396   \n",
      "\n",
      "         2017      2018      2019      2020      2021      2022      2023  \n",
      "237  5.184247  4.517165  4.120246  3.210036  4.611672  7.039727  6.073909  \n",
      "\n",
      "[1 rows x 65 columns]\n"
     ]
    }
   ],
   "source": [
    "print(gdp_sa, inflation_sa)"
   ]
  },
  {
   "cell_type": "markdown",
   "id": "24cb9ed2",
   "metadata": {},
   "source": [
    "the mean of the gpd and inflation from 1990 to 2010 before joinning BRICS "
   ]
  },
  {
   "cell_type": "code",
   "execution_count": 23,
   "id": "6b5a9a79",
   "metadata": {},
   "outputs": [
    {
     "name": "stdout",
     "output_type": "stream",
     "text": [
      "Mean GDP from 1990 to 2010: 2.518978552262519\n",
      "Mean Inflation from 1990 to 2010: 7.488949515558754\n"
     ]
    }
   ],
   "source": [
    "mean_gdp_prebrics= gdp_sa.loc[:, '1990':'2010'].mean(axis=1).values[0]\n",
    "mean_inflation_prebrics = inflation_sa.loc[:, '1990':'2010'].mean(axis=1).values[0]\n",
    "print(f\"Mean GDP from 1990 to 2010: {mean_gdp_prebrics}\")\n",
    "print(f\"Mean Inflation from 1990 to 2010: {mean_inflation_prebrics}\")"
   ]
  },
  {
   "cell_type": "markdown",
   "id": "d935b4c0",
   "metadata": {},
   "source": [
    "the mean of the gpd and inflation from 2010 to 2023 after joinning BRICS"
   ]
  },
  {
   "cell_type": "code",
   "execution_count": 24,
   "id": "5ab3e90b",
   "metadata": {},
   "outputs": [
    {
     "name": "stdout",
     "output_type": "stream",
     "text": [
      "Mean GDP from 2010 to 2023: 1.347212640031057\n",
      "Mean Inflation from 2010 to 2023: 5.185500094486889\n"
     ]
    }
   ],
   "source": [
    "mean_gdp_postbrics = gdp_sa.loc[:, '2010':'2023'].mean(axis=1).values[0]\n",
    "mean_inflation_postbrics = inflation_sa.loc[:, '2010':'2023'].mean(axis=1).values[0]\n",
    "print(f\"Mean GDP from 2010 to 2023: {mean_gdp_postbrics}\")\n",
    "print(f\"Mean Inflation from 2010 to 2023: {mean_inflation_postbrics}\")"
   ]
  },
  {
   "cell_type": "markdown",
   "id": "46c3a96f",
   "metadata": {},
   "source": [
    "the difference in mean between prebrics and postbrics is 1.2 GDP\n",
    "the difference in mean between prebrics and postbrics is 2.3 Inflation \n",
    "\n",
    "our mean gdp and inflation was higher before joinning brics by 1.2(GDP) & 2.3(Inflation) "
   ]
  },
  {
   "cell_type": "markdown",
   "id": "ecd826eb",
   "metadata": {},
   "source": [
    "Median"
   ]
  },
  {
   "cell_type": "code",
   "execution_count": 37,
   "id": "c0633345",
   "metadata": {},
   "outputs": [],
   "source": [
    "\n",
    "gdp_prebrics = gdp_sa.loc[:, '1990':'2010']          \n",
    "inflation_prebrics = inflation_sa.loc[:, '1990':'2010']  \n",
    "\n",
    "median_gdp_prebrics = gdp_prebrics.median(axis=1).values[0]        \n",
    "median_inflation_prebrics = inflation_prebrics.median(axis=1).values[0]  \n",
    "\n",
    "\n",
    "gdp_postbrics = gdp_sa.loc[:, '2010':'2023']          \n",
    "inflation_postbrics = inflation_sa.loc[:, '2010':'2023']  \n",
    "\n",
    "median_gdp_postbrics = gdp_postbrics.median(axis=1).values[0]       \n",
    "median_inflation_postbrics = inflation_postbrics.median(axis=1).values[0]  \n"
   ]
  },
  {
   "cell_type": "code",
   "execution_count": 38,
   "id": "d40fa7b7",
   "metadata": {},
   "outputs": [
    {
     "name": "stdout",
     "output_type": "stream",
     "text": [
      "Median GDP Growth (1990–2010): 3.039732881279562\n",
      "Median Inflation (1990–2010): 7.21531413612566\n",
      "Median GDP Growth (2010–2023): 1.4853051497273455\n",
      "Median Inflation (2010–2023): 5.091756808656941\n"
     ]
    }
   ],
   "source": [
    "print(\"Median GDP Growth (1990–2010):\", median_gdp_prebrics)\n",
    "print(\"Median Inflation (1990–2010):\", median_inflation_prebrics)\n",
    "\n",
    "print(\"Median GDP Growth (2010–2023):\", median_gdp_postbrics)\n",
    "print(\"Median Inflation (2010–2023):\", median_inflation_postbrics)"
   ]
  },
  {
   "cell_type": "markdown",
   "id": "e562dd72",
   "metadata": {},
   "source": [
    "the difference in median between prebrics and postbrics is 1.6 GDP\n",
    "the difference in median between prebrics and postbrics is 2.2 Inflation \n",
    "\n",
    "our median gdp and inflation was higher before joinning brics by 1.6(GDP) & 2.2(Inflation) "
   ]
  },
  {
   "cell_type": "markdown",
   "id": "fd4a577c",
   "metadata": {},
   "source": [
    "Mode"
   ]
  },
  {
   "cell_type": "code",
   "execution_count": 40,
   "id": "85d8c11a",
   "metadata": {},
   "outputs": [],
   "source": [
    "\n",
    "gdp_prebrics = gdp_sa.loc[:, '1990':'2010']\n",
    "inflation_prebrics = inflation_sa.loc[:, '1990':'2010']\n",
    "\n",
    "mode_gdp_prebrics = gdp_prebrics.mode(axis=1).values[0][0]\n",
    "mode_inflation_prebrics = inflation_prebrics.mode(axis=1).values[0][0]\n",
    "\n",
    "\n",
    "gdp_postbrics = gdp_sa.loc[:, '2010':'2023']\n",
    "inflation_postbrics = inflation_sa.loc[:, '2010':'2023']\n",
    "\n",
    "mode_gdp_postbrics = gdp_postbrics.mode(axis=1).values[0][0]\n",
    "mode_inflation_postbrics = inflation_postbrics.mode(axis=1).values[0][0]"
   ]
  },
  {
   "cell_type": "code",
   "execution_count": 41,
   "id": "fba16c24",
   "metadata": {},
   "outputs": [
    {
     "name": "stdout",
     "output_type": "stream",
     "text": [
      "Mode GDP Growth (1990–2010): -2.137032845005209\n",
      "Mode Inflation (1990–2010): -0.692030271024132\n",
      "Mode GDP Growth (2010–2023): -6.1689177146757\n",
      "Mode Inflation (2010–2023): 3.21003597454107\n"
     ]
    }
   ],
   "source": [
    "print(\"Mode GDP Growth (1990–2010):\", mode_gdp_prebrics)\n",
    "print(\"Mode Inflation (1990–2010):\", mode_inflation_prebrics)\n",
    "\n",
    "print(\"Mode GDP Growth (2010–2023):\", mode_gdp_postbrics)\n",
    "print(\"Mode Inflation (2010–2023):\", mode_inflation_postbrics)\n"
   ]
  },
  {
   "cell_type": "markdown",
   "id": "9a0c1882",
   "metadata": {},
   "source": [
    "The difference in mode between pre-BRICS and post-BRICS is -4.03 GDP\n",
    "The difference in mode between pre-BRICS and post-BRICS is 3.90 Inflation\n",
    "\n",
    "Our mode GDP was higher before joining BRICS by 4.03, while mode inflation was higher after joining BRICS by 3.90."
   ]
  },
  {
   "cell_type": "markdown",
   "id": "dbbc93b1",
   "metadata": {},
   "source": [
    "Range"
   ]
  },
  {
   "cell_type": "code",
   "execution_count": 42,
   "id": "dd49028c",
   "metadata": {},
   "outputs": [],
   "source": [
    "\n",
    "gdp_range_prebrics = gdp_sa.loc[:, '1990':'2010'].max(axis=1) - gdp_sa.loc[:, '1990':'2010'].min(axis=1)\n",
    "inflation_range_prebrics = inflation_sa.loc[:, '1990':'2010'].max(axis=1) - inflation_sa.loc[:, '1990':'2010'].min(axis=1)\n",
    "\n",
    "\n",
    "\n",
    "\n",
    "gdp_range_postbrics = gdp_sa.loc[:, '2010':'2023'].max(axis=1) - gdp_sa.loc[:, '2010':'2023'].min(axis=1)\n",
    "inflation_range_postbrics = inflation_sa.loc[:, '2010':'2023'].max(axis=1) - inflation_sa.loc[:, '2010':'2023'].min(axis=1)\n",
    "\n"
   ]
  },
  {
   "cell_type": "code",
   "execution_count": 43,
   "id": "799e7232",
   "metadata": {},
   "outputs": [
    {
     "name": "stdout",
     "output_type": "stream",
     "text": [
      "GDP Range (1990–2010): 7.740839303964094\n",
      "Inflation Range (1990–2010): 16.026832624346135\n"
     ]
    }
   ],
   "source": [
    "print(\"GDP Range (1990–2010):\", gdp_range_prebrics.values[0])\n",
    "print(\"Inflation Range (1990–2010):\", inflation_range_prebrics.values[0])"
   ]
  },
  {
   "cell_type": "code",
   "execution_count": 44,
   "id": "10fe245e",
   "metadata": {},
   "outputs": [
    {
     "name": "stdout",
     "output_type": "stream",
     "text": [
      "GDP Range (2010–2023): 11.123950309083256\n",
      "Inflation Range (2010–2023): 3.8296906380175897\n"
     ]
    }
   ],
   "source": [
    "print(\"GDP Range (2010–2023):\", gdp_range_postbrics.values[0])\n",
    "print(\"Inflation Range (2010–2023):\", inflation_range_postbrics.values[0])"
   ]
  },
  {
   "cell_type": "markdown",
   "id": "e44c39c0",
   "metadata": {},
   "source": [
    "The difference in range between pre-BRICS and post-BRICS is -3.42 GDP\n",
    "The difference in range between pre-BRICS and post-BRICS is 12.22 Inflation\n",
    "\n",
    "Our GDP range was higher after joining BRICS by 3.42, while the inflation range was higher after joining BRICS by 12.22."
   ]
  }
 ],
 "metadata": {
  "kernelspec": {
   "display_name": "base",
   "language": "python",
   "name": "python3"
  },
  "language_info": {
   "codemirror_mode": {
    "name": "ipython",
    "version": 3
   },
   "file_extension": ".py",
   "mimetype": "text/x-python",
   "name": "python",
   "nbconvert_exporter": "python",
   "pygments_lexer": "ipython3",
   "version": "3.12.4"
  }
 },
 "nbformat": 4,
 "nbformat_minor": 5
}
