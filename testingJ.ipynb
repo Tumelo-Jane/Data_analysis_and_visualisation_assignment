{
 "cells": [
  {
   "cell_type": "markdown",
   "id": "4c3b43aa",
   "metadata": {},
   "source": [
    "## 1. Data Preparation"
   ]
  },
  {
   "cell_type": "code",
   "execution_count": 2,
   "id": "a1df3d2c",
   "metadata": {},
   "outputs": [],
   "source": [
    "import pandas as pd\n",
    "import numpy as np"
   ]
  },
  {
   "cell_type": "code",
   "execution_count": 3,
   "id": "bc87dd31",
   "metadata": {},
   "outputs": [],
   "source": [
    "df_inflation = pd.read_csv('datasets/Inflation1.csv')\n",
    "df_gdp = pd.read_csv('datasets/GDP.csv')"
   ]
  },
  {
   "cell_type": "code",
   "execution_count": 4,
   "id": "050caa17",
   "metadata": {},
   "outputs": [
    {
     "data": {
      "text/html": [
       "<div>\n",
       "<style scoped>\n",
       "    .dataframe tbody tr th:only-of-type {\n",
       "        vertical-align: middle;\n",
       "    }\n",
       "\n",
       "    .dataframe tbody tr th {\n",
       "        vertical-align: top;\n",
       "    }\n",
       "\n",
       "    .dataframe thead th {\n",
       "        text-align: right;\n",
       "    }\n",
       "</style>\n",
       "<table border=\"1\" class=\"dataframe\">\n",
       "  <thead>\n",
       "    <tr style=\"text-align: right;\">\n",
       "      <th></th>\n",
       "      <th>Country</th>\n",
       "      <th>1960</th>\n",
       "      <th>1961</th>\n",
       "      <th>1962</th>\n",
       "      <th>1963</th>\n",
       "      <th>1964</th>\n",
       "      <th>1965</th>\n",
       "      <th>1966</th>\n",
       "      <th>1967</th>\n",
       "      <th>1968</th>\n",
       "      <th>...</th>\n",
       "      <th>2014</th>\n",
       "      <th>2015</th>\n",
       "      <th>2016</th>\n",
       "      <th>2017</th>\n",
       "      <th>2018</th>\n",
       "      <th>2019</th>\n",
       "      <th>2020</th>\n",
       "      <th>2021</th>\n",
       "      <th>2022</th>\n",
       "      <th>2023</th>\n",
       "    </tr>\n",
       "  </thead>\n",
       "  <tbody>\n",
       "    <tr>\n",
       "      <th>0</th>\n",
       "      <td>South Africa</td>\n",
       "      <td>1.288859</td>\n",
       "      <td>2.102374</td>\n",
       "      <td>1.246285</td>\n",
       "      <td>1.33797</td>\n",
       "      <td>2.534973</td>\n",
       "      <td>4.069029</td>\n",
       "      <td>3.489234</td>\n",
       "      <td>3.538992</td>\n",
       "      <td>1.986136</td>\n",
       "      <td>...</td>\n",
       "      <td>6.129838</td>\n",
       "      <td>4.540642</td>\n",
       "      <td>6.571396</td>\n",
       "      <td>5.184247</td>\n",
       "      <td>4.517165</td>\n",
       "      <td>4.120246</td>\n",
       "      <td>3.210036</td>\n",
       "      <td>4.611672</td>\n",
       "      <td>7.039727</td>\n",
       "      <td>6.073909</td>\n",
       "    </tr>\n",
       "  </tbody>\n",
       "</table>\n",
       "<p>1 rows × 65 columns</p>\n",
       "</div>"
      ],
      "text/plain": [
       "        Country      1960      1961      1962     1963      1964      1965  \\\n",
       "0  South Africa  1.288859  2.102374  1.246285  1.33797  2.534973  4.069029   \n",
       "\n",
       "       1966      1967      1968  ...      2014      2015      2016      2017  \\\n",
       "0  3.489234  3.538992  1.986136  ...  6.129838  4.540642  6.571396  5.184247   \n",
       "\n",
       "       2018      2019      2020      2021      2022      2023  \n",
       "0  4.517165  4.120246  3.210036  4.611672  7.039727  6.073909  \n",
       "\n",
       "[1 rows x 65 columns]"
      ]
     },
     "execution_count": 4,
     "metadata": {},
     "output_type": "execute_result"
    }
   ],
   "source": [
    "df_inflation = df_inflation[df_inflation['REF_AREA_NAME'] == 'South Africa'].reset_index()\n",
    "df_gdp = df_gdp[df_gdp['REF_AREA_NAME'] == 'South Africa'].reset_index()\n",
    "\n",
    "drop_cols = [\n",
    "    'REF_AREA_ID','FREQ_ID', 'index', 'FREQ_NAME', 'INDICATOR_ID', 'UNIT_MEASURE_ID', 'AGG_METHOD_ID', 'INDICATOR_ID','INDICATOR_NAME', 'UNIT_MEASURE_ID', \n",
    "    'UNIT_MEASURE_NAME','AGG_METHOD_ID', 'AGG_METHOD_NAME', 'DECIMALS_ID', 'DECIMALS_NAME','DATABASE_ID_ID','DATABASE_ID_NAME', 'COMMENT_TS', \n",
    "    'UNIT_MULT_ID','UNIT_MULT_NAME', 'DATA_SOURCE_ID', 'DATA_SOURCE_NAME', 'OBS_STATUS_ID',\t'OBS_STATUS_NAME','OBS_CONF_ID','OBS_CONF_NAME'\n",
    "    ]\n",
    "\n",
    "df_gdp = df_gdp.drop(columns=drop_cols)\n",
    "df_inflation = df_inflation.drop(columns=drop_cols)\n",
    "\n",
    "for df in [df_gdp, df_inflation]:\n",
    "    df.rename(columns={'REF_AREA_NAME': 'Country'}, inplace=True)\n",
    "\n",
    "df_gdp.fillna(df_gdp.mean(numeric_only=True), inplace=True)\n",
    "df_inflation.fillna(df_inflation.mean(numeric_only=True), inplace=True)\n",
    "\n",
    "df_inflation\n"
   ]
  },
  {
   "cell_type": "code",
   "execution_count": 5,
   "id": "45e12301",
   "metadata": {},
   "outputs": [
    {
     "data": {
      "text/html": [
       "<div>\n",
       "<style scoped>\n",
       "    .dataframe tbody tr th:only-of-type {\n",
       "        vertical-align: middle;\n",
       "    }\n",
       "\n",
       "    .dataframe tbody tr th {\n",
       "        vertical-align: top;\n",
       "    }\n",
       "\n",
       "    .dataframe thead th {\n",
       "        text-align: right;\n",
       "    }\n",
       "</style>\n",
       "<table border=\"1\" class=\"dataframe\">\n",
       "  <thead>\n",
       "    <tr style=\"text-align: right;\">\n",
       "      <th></th>\n",
       "      <th>Country</th>\n",
       "      <th>Year</th>\n",
       "      <th>Inflation</th>\n",
       "      <th>GDP</th>\n",
       "    </tr>\n",
       "  </thead>\n",
       "  <tbody>\n",
       "    <tr>\n",
       "      <th>0</th>\n",
       "      <td>South Africa</td>\n",
       "      <td>1961</td>\n",
       "      <td>2.102374</td>\n",
       "      <td>3.844734</td>\n",
       "    </tr>\n",
       "    <tr>\n",
       "      <th>1</th>\n",
       "      <td>South Africa</td>\n",
       "      <td>1962</td>\n",
       "      <td>1.246285</td>\n",
       "      <td>6.177931</td>\n",
       "    </tr>\n",
       "    <tr>\n",
       "      <th>2</th>\n",
       "      <td>South Africa</td>\n",
       "      <td>1963</td>\n",
       "      <td>1.337970</td>\n",
       "      <td>7.373709</td>\n",
       "    </tr>\n",
       "    <tr>\n",
       "      <th>3</th>\n",
       "      <td>South Africa</td>\n",
       "      <td>1964</td>\n",
       "      <td>2.534973</td>\n",
       "      <td>7.939609</td>\n",
       "    </tr>\n",
       "    <tr>\n",
       "      <th>4</th>\n",
       "      <td>South Africa</td>\n",
       "      <td>1965</td>\n",
       "      <td>4.069029</td>\n",
       "      <td>6.122798</td>\n",
       "    </tr>\n",
       "    <tr>\n",
       "      <th>...</th>\n",
       "      <td>...</td>\n",
       "      <td>...</td>\n",
       "      <td>...</td>\n",
       "      <td>...</td>\n",
       "    </tr>\n",
       "    <tr>\n",
       "      <th>58</th>\n",
       "      <td>South Africa</td>\n",
       "      <td>2019</td>\n",
       "      <td>4.120246</td>\n",
       "      <td>0.259936</td>\n",
       "    </tr>\n",
       "    <tr>\n",
       "      <th>59</th>\n",
       "      <td>South Africa</td>\n",
       "      <td>2020</td>\n",
       "      <td>3.210036</td>\n",
       "      <td>-6.168918</td>\n",
       "    </tr>\n",
       "    <tr>\n",
       "      <th>60</th>\n",
       "      <td>South Africa</td>\n",
       "      <td>2021</td>\n",
       "      <td>4.611672</td>\n",
       "      <td>4.955033</td>\n",
       "    </tr>\n",
       "    <tr>\n",
       "      <th>61</th>\n",
       "      <td>South Africa</td>\n",
       "      <td>2022</td>\n",
       "      <td>7.039727</td>\n",
       "      <td>1.911480</td>\n",
       "    </tr>\n",
       "    <tr>\n",
       "      <th>62</th>\n",
       "      <td>South Africa</td>\n",
       "      <td>2023</td>\n",
       "      <td>6.073909</td>\n",
       "      <td>0.698485</td>\n",
       "    </tr>\n",
       "  </tbody>\n",
       "</table>\n",
       "<p>63 rows × 4 columns</p>\n",
       "</div>"
      ],
      "text/plain": [
       "         Country  Year  Inflation       GDP\n",
       "0   South Africa  1961   2.102374  3.844734\n",
       "1   South Africa  1962   1.246285  6.177931\n",
       "2   South Africa  1963   1.337970  7.373709\n",
       "3   South Africa  1964   2.534973  7.939609\n",
       "4   South Africa  1965   4.069029  6.122798\n",
       "..           ...   ...        ...       ...\n",
       "58  South Africa  2019   4.120246  0.259936\n",
       "59  South Africa  2020   3.210036 -6.168918\n",
       "60  South Africa  2021   4.611672  4.955033\n",
       "61  South Africa  2022   7.039727  1.911480\n",
       "62  South Africa  2023   6.073909  0.698485\n",
       "\n",
       "[63 rows x 4 columns]"
      ]
     },
     "execution_count": 5,
     "metadata": {},
     "output_type": "execute_result"
    }
   ],
   "source": [
    "inflation_long = df_inflation.melt(\n",
    "    id_vars='Country',\n",
    "    var_name='Year',\n",
    "    value_name='Inflation'\n",
    ")\n",
    "\n",
    "gdp_long = df_gdp.melt(\n",
    "    id_vars='Country',\n",
    "    var_name='Year',\n",
    "    value_name='GDP'\n",
    ")\n",
    "\n",
    "inflation_long['Year'] = inflation_long['Year'].astype(int)\n",
    "gdp_long['Year'] = gdp_long['Year'].astype(int)\n",
    "\n",
    "merged_df = pd.merge(inflation_long, gdp_long, on=['Country', 'Year'])\n",
    "\n",
    "merged_df"
   ]
  },
  {
   "cell_type": "code",
   "execution_count": 6,
   "id": "af921a85",
   "metadata": {},
   "outputs": [
    {
     "data": {
      "text/html": [
       "<div>\n",
       "<style scoped>\n",
       "    .dataframe tbody tr th:only-of-type {\n",
       "        vertical-align: middle;\n",
       "    }\n",
       "\n",
       "    .dataframe tbody tr th {\n",
       "        vertical-align: top;\n",
       "    }\n",
       "\n",
       "    .dataframe thead th {\n",
       "        text-align: right;\n",
       "    }\n",
       "</style>\n",
       "<table border=\"1\" class=\"dataframe\">\n",
       "  <thead>\n",
       "    <tr style=\"text-align: right;\">\n",
       "      <th></th>\n",
       "      <th>Year</th>\n",
       "      <th>Inflation</th>\n",
       "      <th>GDP</th>\n",
       "    </tr>\n",
       "  </thead>\n",
       "  <tbody>\n",
       "    <tr>\n",
       "      <th>count</th>\n",
       "      <td>63.000000</td>\n",
       "      <td>63.000000</td>\n",
       "      <td>63.000000</td>\n",
       "    </tr>\n",
       "    <tr>\n",
       "      <th>mean</th>\n",
       "      <td>1992.000000</td>\n",
       "      <td>7.839404</td>\n",
       "      <td>2.786620</td>\n",
       "    </tr>\n",
       "    <tr>\n",
       "      <th>std</th>\n",
       "      <td>18.330303</td>\n",
       "      <td>4.565871</td>\n",
       "      <td>2.640099</td>\n",
       "    </tr>\n",
       "    <tr>\n",
       "      <th>min</th>\n",
       "      <td>1961.000000</td>\n",
       "      <td>-0.692030</td>\n",
       "      <td>-6.168918</td>\n",
       "    </tr>\n",
       "    <tr>\n",
       "      <th>25%</th>\n",
       "      <td>1976.500000</td>\n",
       "      <td>4.528904</td>\n",
       "      <td>1.277710</td>\n",
       "    </tr>\n",
       "    <tr>\n",
       "      <th>50%</th>\n",
       "      <td>1992.000000</td>\n",
       "      <td>6.425708</td>\n",
       "      <td>3.014480</td>\n",
       "    </tr>\n",
       "    <tr>\n",
       "      <th>75%</th>\n",
       "      <td>2007.500000</td>\n",
       "      <td>11.339223</td>\n",
       "      <td>4.563252</td>\n",
       "    </tr>\n",
       "    <tr>\n",
       "      <th>max</th>\n",
       "      <td>2023.000000</td>\n",
       "      <td>18.654919</td>\n",
       "      <td>7.939609</td>\n",
       "    </tr>\n",
       "  </tbody>\n",
       "</table>\n",
       "</div>"
      ],
      "text/plain": [
       "              Year  Inflation        GDP\n",
       "count    63.000000  63.000000  63.000000\n",
       "mean   1992.000000   7.839404   2.786620\n",
       "std      18.330303   4.565871   2.640099\n",
       "min    1961.000000  -0.692030  -6.168918\n",
       "25%    1976.500000   4.528904   1.277710\n",
       "50%    1992.000000   6.425708   3.014480\n",
       "75%    2007.500000  11.339223   4.563252\n",
       "max    2023.000000  18.654919   7.939609"
      ]
     },
     "execution_count": 6,
     "metadata": {},
     "output_type": "execute_result"
    }
   ],
   "source": [
    "merged_df.describe()"
   ]
  },
  {
   "cell_type": "markdown",
   "id": "7f3a3712",
   "metadata": {},
   "source": [
    "## 2. Numerical Analysis"
   ]
  },
  {
   "cell_type": "code",
   "execution_count": 7,
   "id": "3c31c063",
   "metadata": {},
   "outputs": [],
   "source": [
    "years = merged_df['Year'].to_numpy()\n",
    "inflation = merged_df['Inflation'].to_numpy()\n",
    "gdp = merged_df['GDP'].to_numpy()"
   ]
  },
  {
   "cell_type": "markdown",
   "id": "b55b56d5",
   "metadata": {},
   "source": [
    "### Inflation Stats"
   ]
  },
  {
   "cell_type": "code",
   "execution_count": 8,
   "id": "8053fa0a",
   "metadata": {},
   "outputs": [],
   "source": [
    "inf_mean = round(np.mean(inflation), 2)\n",
    "inf_std = round(np.std(inflation), 2)\n",
    "inf_min = round(np.min(inflation), 2)\n",
    "inf_max = round(np.max(inflation), 2)"
   ]
  },
  {
   "cell_type": "code",
   "execution_count": 9,
   "id": "44e12ae5",
   "metadata": {},
   "outputs": [
    {
     "data": {
      "text/plain": [
       "np.float64(7.84)"
      ]
     },
     "execution_count": 9,
     "metadata": {},
     "output_type": "execute_result"
    }
   ],
   "source": [
    "inf_mean "
   ]
  },
  {
   "cell_type": "code",
   "execution_count": 10,
   "id": "a02ab8a4",
   "metadata": {},
   "outputs": [
    {
     "data": {
      "text/plain": [
       "np.float64(4.53)"
      ]
     },
     "execution_count": 10,
     "metadata": {},
     "output_type": "execute_result"
    }
   ],
   "source": [
    "inf_std "
   ]
  },
  {
   "cell_type": "code",
   "execution_count": 11,
   "id": "8044324a",
   "metadata": {},
   "outputs": [
    {
     "data": {
      "text/plain": [
       "np.float64(-0.69)"
      ]
     },
     "execution_count": 11,
     "metadata": {},
     "output_type": "execute_result"
    }
   ],
   "source": [
    "inf_min"
   ]
  },
  {
   "cell_type": "code",
   "execution_count": 12,
   "id": "b27fdc17",
   "metadata": {},
   "outputs": [
    {
     "data": {
      "text/plain": [
       "np.float64(18.65)"
      ]
     },
     "execution_count": 12,
     "metadata": {},
     "output_type": "execute_result"
    }
   ],
   "source": [
    "inf_max"
   ]
  },
  {
   "cell_type": "markdown",
   "id": "d2ca6990",
   "metadata": {},
   "source": [
    "### GDP Stats"
   ]
  },
  {
   "cell_type": "code",
   "execution_count": 13,
   "id": "7b236afd",
   "metadata": {},
   "outputs": [],
   "source": [
    "gdp_mean = round(np.mean(gdp), 2)\n",
    "gdp_std = round(np.std(gdp), 2)\n",
    "gdp_min = round(np.min(gdp), 2)\n",
    "gdp_max = round(np.max(gdp), 2)"
   ]
  },
  {
   "cell_type": "code",
   "execution_count": 14,
   "id": "11367ac9",
   "metadata": {},
   "outputs": [
    {
     "data": {
      "text/plain": [
       "np.float64(2.79)"
      ]
     },
     "execution_count": 14,
     "metadata": {},
     "output_type": "execute_result"
    }
   ],
   "source": [
    "gdp_mean"
   ]
  },
  {
   "cell_type": "code",
   "execution_count": 15,
   "id": "31701d6c",
   "metadata": {},
   "outputs": [
    {
     "data": {
      "text/plain": [
       "np.float64(2.62)"
      ]
     },
     "execution_count": 15,
     "metadata": {},
     "output_type": "execute_result"
    }
   ],
   "source": [
    "gdp_std"
   ]
  },
  {
   "cell_type": "code",
   "execution_count": 16,
   "id": "77943b76",
   "metadata": {},
   "outputs": [
    {
     "data": {
      "text/plain": [
       "np.float64(-6.17)"
      ]
     },
     "execution_count": 16,
     "metadata": {},
     "output_type": "execute_result"
    }
   ],
   "source": [
    "gdp_min"
   ]
  },
  {
   "cell_type": "code",
   "execution_count": 17,
   "id": "62278d1e",
   "metadata": {},
   "outputs": [
    {
     "data": {
      "text/plain": [
       "np.float64(7.94)"
      ]
     },
     "execution_count": 17,
     "metadata": {},
     "output_type": "execute_result"
    }
   ],
   "source": [
    "gdp_max"
   ]
  },
  {
   "cell_type": "markdown",
   "id": "6538c6d5",
   "metadata": {},
   "source": [
    "### Correlation between GDP and Inflation over the years"
   ]
  },
  {
   "cell_type": "code",
   "execution_count": 18,
   "id": "d71c5a9c",
   "metadata": {},
   "outputs": [
    {
     "data": {
      "text/plain": [
       "np.float64(-0.3476223342825892)"
      ]
     },
     "execution_count": 18,
     "metadata": {},
     "output_type": "execute_result"
    }
   ],
   "source": [
    "corr = np.corrcoef(gdp, inflation)[0,1]\n",
    "corr"
   ]
  },
  {
   "cell_type": "markdown",
   "id": "a6621ee7",
   "metadata": {},
   "source": [
    "### Year over Year changes in Inflation and GDP"
   ]
  },
  {
   "cell_type": "code",
   "execution_count": null,
   "id": "a5c17923",
   "metadata": {},
   "outputs": [],
   "source": []
  },
  {
   "cell_type": "code",
   "execution_count": 19,
   "id": "686fbad6",
   "metadata": {},
   "outputs": [],
   "source": [
    "gdp_yoy = np.diff(gdp)\n",
    "infl_yoy = np.diff(inflation)"
   ]
  },
  {
   "cell_type": "code",
   "execution_count": 20,
   "id": "0be3416b",
   "metadata": {},
   "outputs": [
    {
     "data": {
      "text/plain": [
       "array([ 3.84473414,  6.17793085,  7.37370925,  7.93960864,  6.1227981 ,\n",
       "        4.43838609,  7.19652307,  4.15337298,  4.71590287,  5.24866143,\n",
       "        4.2789344 ,  1.65482971,  4.57194475,  6.1111221 ,  1.69543378,\n",
       "        2.24986033, -0.09397912,  3.01447978,  3.79051926,  6.62058343,\n",
       "        5.36079106, -0.38341911, -1.84655775,  5.09915163, -1.21154088,\n",
       "        0.01784924,  2.10072902,  4.20010965,  2.39479512, -0.31776043,\n",
       "       -1.01824497, -2.13703285,  1.23355794,  3.2       ,  3.1       ,\n",
       "        4.3       ,  2.6       ,  0.5       ,  2.4       ,  4.2       ,\n",
       "        2.7       ,  3.7003744 ,  2.94907547,  4.55455991,  5.27705197,\n",
       "        5.60380646,  5.36047405,  3.19104389, -1.53808914,  3.03973288,\n",
       "        3.16855628,  2.39623238,  2.48546801,  1.41382645,  1.32186224,\n",
       "        0.66455231,  1.15794695,  1.55678385,  0.25993558, -6.16891771,\n",
       "        4.95503259,  1.91147996,  0.69848519])"
      ]
     },
     "execution_count": 20,
     "metadata": {},
     "output_type": "execute_result"
    }
   ],
   "source": [
    "gdp"
   ]
  },
  {
   "cell_type": "code",
   "execution_count": 21,
   "id": "a6f17e21",
   "metadata": {},
   "outputs": [
    {
     "data": {
      "text/plain": [
       "array([ 2.33,  1.2 ,  0.57, -1.82, -1.68,  2.76, -3.04,  0.56,  0.53,\n",
       "       -0.97, -2.62,  2.92,  1.54, -4.42,  0.55, -2.34,  3.11,  0.78,\n",
       "        2.83, -1.26, -5.74, -1.46,  6.95, -6.31,  1.23,  2.08,  2.1 ,\n",
       "       -1.81, -2.71, -0.7 , -1.12,  3.37,  1.97, -0.1 ,  1.2 , -1.7 ,\n",
       "       -2.1 ,  1.9 ,  1.8 , -1.5 ,  1.  , -0.75,  1.61,  0.72,  0.33,\n",
       "       -0.24, -2.17, -4.73,  4.58,  0.13, -0.77,  0.09, -1.07, -0.09,\n",
       "       -0.66,  0.49,  0.4 , -1.3 , -6.43, 11.12, -3.04, -1.21])"
      ]
     },
     "execution_count": 21,
     "metadata": {},
     "output_type": "execute_result"
    }
   ],
   "source": [
    "gdp_yoy.round(2)"
   ]
  },
  {
   "cell_type": "code",
   "execution_count": 22,
   "id": "86e6bafb",
   "metadata": {},
   "outputs": [
    {
     "data": {
      "text/plain": [
       "array([[ 2.33319671],\n",
       "       [ 1.1957784 ],\n",
       "       [ 0.5658994 ],\n",
       "       [-1.81681055],\n",
       "       [-1.68441201],\n",
       "       [ 2.75813698],\n",
       "       [-3.04315008],\n",
       "       [ 0.56252988],\n",
       "       [ 0.53275856],\n",
       "       [-0.96972703],\n",
       "       [-2.62410469],\n",
       "       [ 2.91711504],\n",
       "       [ 1.53917736],\n",
       "       [-4.41568832],\n",
       "       [ 0.55442655],\n",
       "       [-2.34383945],\n",
       "       [ 3.1084589 ],\n",
       "       [ 0.77603948],\n",
       "       [ 2.83006416],\n",
       "       [-1.25979237],\n",
       "       [-5.74421017],\n",
       "       [-1.46313864],\n",
       "       [ 6.94570938],\n",
       "       [-6.31069251],\n",
       "       [ 1.22939012],\n",
       "       [ 2.08287978],\n",
       "       [ 2.09938063],\n",
       "       [-1.80531453],\n",
       "       [-2.71255554],\n",
       "       [-0.70048454],\n",
       "       [-1.11878788],\n",
       "       [ 3.37059078],\n",
       "       [ 1.96644206],\n",
       "       [-0.1       ],\n",
       "       [ 1.2       ],\n",
       "       [-1.7       ],\n",
       "       [-2.1       ],\n",
       "       [ 1.9       ],\n",
       "       [ 1.8       ],\n",
       "       [-1.5       ],\n",
       "       [ 1.0003744 ],\n",
       "       [-0.75129894],\n",
       "       [ 1.60548444],\n",
       "       [ 0.72249207],\n",
       "       [ 0.32675449],\n",
       "       [-0.24333241],\n",
       "       [-2.16943017],\n",
       "       [-4.72913302],\n",
       "       [ 4.57782202],\n",
       "       [ 0.1288234 ],\n",
       "       [-0.77232389],\n",
       "       [ 0.08923562],\n",
       "       [-1.07164156],\n",
       "       [-0.09196422],\n",
       "       [-0.65730993],\n",
       "       [ 0.49339464],\n",
       "       [ 0.3988369 ],\n",
       "       [-1.29684827],\n",
       "       [-6.42885329],\n",
       "       [11.12395031],\n",
       "       [-3.04355263],\n",
       "       [-1.21299477]])"
      ]
     },
     "execution_count": 22,
     "metadata": {},
     "output_type": "execute_result"
    }
   ],
   "source": [
    "gdp_yoy = gdp_yoy.reshape(-1,1)\n",
    "infl_yoy = infl_yoy.reshape(-1,1)\n",
    "\n",
    "gdp_yoy"
   ]
  },
  {
   "cell_type": "markdown",
   "id": "b6cf4302",
   "metadata": {},
   "source": [
    "### Separating arrays into Apartheid and Post-Apartheid to analyse the mean between the two periods\n"
   ]
  },
  {
   "cell_type": "code",
   "execution_count": 23,
   "id": "8a3950c9",
   "metadata": {},
   "outputs": [],
   "source": [
    "apartheid_mask = years <= 1993\n",
    "post_apartheid_mask = years >= 1994\n",
    "\n",
    "gdp_apartheid = gdp[apartheid_mask]\n",
    "gdp_post = gdp[post_apartheid_mask]\n",
    "\n",
    "\n",
    "infl_apartheid = inflation[apartheid_mask]\n",
    "infl_post = inflation[post_apartheid_mask]\n",
    "\n",
    "\n",
    "mean_gdp_apartheid = np.mean(gdp_apartheid)\n",
    "mean_gdp_post = np.mean(gdp_post)\n",
    "mean_infl_apartheid = np.mean(infl_apartheid)\n",
    "mean_infl_post = np.mean(infl_post)\n"
   ]
  },
  {
   "cell_type": "markdown",
   "id": "b6c48c64",
   "metadata": {},
   "source": [
    "### Analysing the Volatility of the two eras"
   ]
  },
  {
   "cell_type": "code",
   "execution_count": 43,
   "id": "3cc6a2a5",
   "metadata": {},
   "outputs": [],
   "source": [
    "std_gdp_apartheid = np.std(gdp_apartheid)\n",
    "std_gdp_post = np.std(gdp_post)\n",
    "std_infl_apartheid = np.std(infl_apartheid)\n",
    "std_infl_post = np.std(infl_post)"
   ]
  },
  {
   "cell_type": "markdown",
   "id": "76a28a58",
   "metadata": {},
   "source": [
    "### Analysing extreme years for Inflation and GDP"
   ]
  },
  {
   "cell_type": "code",
   "execution_count": 28,
   "id": "c5d82832",
   "metadata": {},
   "outputs": [],
   "source": [
    "worst_gdp_year = years[np.argmin(gdp)]\n",
    "best_gdp_year = years[np.argmax(gdp)]\n",
    "worst_inf_year = years[np.argmax(inflation)]\n",
    "best_inf_year = years[np.argmin(inflation)]\n"
   ]
  },
  {
   "cell_type": "markdown",
   "id": "832463a8",
   "metadata": {},
   "source": [
    "## 3. Visualizations\n"
   ]
  },
  {
   "cell_type": "code",
   "execution_count": 33,
   "id": "2652069e",
   "metadata": {},
   "outputs": [
    {
     "data": {
      "image/png": "[encoded data removed]",
      "text/plain": [
       "<Figure size 800x500 with 1 Axes>"
      ]
     },
     "metadata": {},
     "output_type": "display_data"
    }
   ],
   "source": [
    "import matplotlib.pyplot as plt\n",
    "\n",
    "# Stats for pre- and post-apartheid eras\n",
    "labels = ['GDP Mean', 'Inflation Mean']\n",
    "pre_apartheid = [mean_gdp_apartheid, mean_infl_apartheid]\n",
    "post_apartheid = [mean_gdp_post, mean_infl_post]\n",
    "\n",
    "x = np.arange(len(labels))  \n",
    "width = 0.35  \n",
    "\n",
    "fig, ax = plt.subplots(figsize=(8, 5))\n",
    "rects1 = ax.bar(x - width/2, pre_apartheid, width, label='Pre-Apartheid')\n",
    "rects2 = ax.bar(x + width/2, post_apartheid, width, label='Post-Apartheid')\n",
    "\n",
    "\n",
    "ax.set_ylabel('Value')\n",
    "ax.set_title('GDP and Inflation Means: Pre- vs Post-Apartheid')\n",
    "ax.set_xticks(x)\n",
    "ax.set_xticklabels(labels)\n",
    "ax.legend()\n",
    "\n",
    "\n",
    "for rect in rects1 + rects2:\n",
    "    height = rect.get_height()\n",
    "    ax.annotate(f'{height:.2f}',\n",
    "                xy=(rect.get_x() + rect.get_width() / 2, height),\n",
    "                xytext=(0, 3),  \n",
    "                textcoords=\"offset points\",\n",
    "                ha='center', va='bottom')\n",
    "\n",
    "plt.tight_layout()\n",
    "plt.show()"
   ]
  },
  {
   "cell_type": "code",
   "execution_count": 34,
   "id": "712a4aeb",
   "metadata": {},
   "outputs": [
    {
     "data": {
      "image/png": "[encoded data removed]",
      "text/plain": [
       "<Figure size 1000x600 with 1 Axes>"
      ]
     },
     "metadata": {},
     "output_type": "display_data"
    }
   ],
   "source": [
    "import matplotlib.pyplot as plt\n",
    "\n",
    "# Pre-Apartheid stats\n",
    "best_gdp_apartheid = np.max(gdp_apartheid)\n",
    "worst_gdp_apartheid = np.min(gdp_apartheid)\n",
    "best_inf_apartheid = np.min(infl_apartheid)\n",
    "worst_inf_apartheid = np.max(infl_apartheid)\n",
    "\n",
    "# Post-Apartheid stats\n",
    "best_gdp_post = np.max(gdp_post)\n",
    "worst_gdp_post = np.min(gdp_post)\n",
    "best_inf_post = np.min(infl_post)\n",
    "worst_inf_post = np.max(infl_post)\n",
    "\n",
    "labels = ['Best GDP', 'Worst GDP', 'Best Inflation', 'Worst Inflation']\n",
    "pre_apartheid_stats = [best_gdp_apartheid, worst_gdp_apartheid, best_inf_apartheid, worst_inf_apartheid]\n",
    "post_apartheid_stats = [best_gdp_post, worst_gdp_post, best_inf_post, worst_inf_post]\n",
    "\n",
    "x = np.arange(len(labels))\n",
    "width = 0.35\n",
    "\n",
    "fig, ax = plt.subplots(figsize=(10, 6))\n",
    "rects1 = ax.bar(x - width/2, pre_apartheid_stats, width, label='Pre-Apartheid')\n",
    "rects2 = ax.bar(x + width/2, post_apartheid_stats, width, label='Post-Apartheid')\n",
    "\n",
    "ax.set_ylabel('Value')\n",
    "ax.set_title('Best and Worst GDP & Inflation: Pre- vs Post-Apartheid')\n",
    "ax.set_xticks(x)\n",
    "ax.set_xticklabels(labels)\n",
    "ax.legend()\n",
    "\n",
    "for rect in rects1 + rects2:\n",
    "    height = rect.get_height()\n",
    "    ax.annotate(f'{height:.2f}',\n",
    "                xy=(rect.get_x() + rect.get_width() / 2, height),\n",
    "                xytext=(0, 3),\n",
    "                textcoords=\"offset points\",\n",
    "                ha='center', va='bottom')\n",
    "\n",
    "plt.tight_layout()\n",
    "plt.show()"
   ]
  }
 ],
 "metadata": {
  "kernelspec": {
   "display_name": "base",
   "language": "python",
   "name": "python3"
  },
  "language_info": {
   "codemirror_mode": {
    "name": "ipython",
    "version": 3
   },
   "file_extension": ".py",
   "mimetype": "text/x-python",
   "name": "python",
   "nbconvert_exporter": "python",
   "pygments_lexer": "ipython3",
   "version": "3.12.4"
  }
 },
 "nbformat": 4,
 "nbformat_minor": 5
}
